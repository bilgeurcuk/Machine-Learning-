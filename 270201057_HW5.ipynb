{
  "nbformat": 4,
  "nbformat_minor": 0,
  "metadata": {
    "colab": {
      "provenance": []
    },
    "kernelspec": {
      "name": "python3",
      "display_name": "Python 3"
    },
    "language_info": {
      "name": "python"
    }
  },
  "cells": [
    {
      "cell_type": "code",
      "source": [
        "import numpy as np\n",
        "import matplotlib.pyplot as plt\n",
        "\n",
        "from sklearn.model_selection import train_test_split\n",
        "from sklearn import datasets\n",
        "\n",
        "from sklearn.neighbors import KNeighborsClassifier\n",
        "\n",
        "from sklearn.linear_model import LogisticRegression\n",
        "import pandas as pd\n",
        "\n",
        "from sklearn.cluster import KMeans\n",
        "from sklearn.model_selection import KFold\n",
        "from sklearn.model_selection import cross_val_score\n",
        "from numpy import mean\n",
        "import scipy\n",
        "from sklearn.neighbors import kneighbors_graph \n",
        "from scipy.sparse.linalg import expm\n",
        "\n",
        "from sklearn.impute import SimpleImputer\n",
        "from sklearn.feature_selection import mutual_info_classif\n",
        "from sklearn.feature_selection import GenericUnivariateSelect\n"
      ],
      "metadata": {
        "id": "XdUR_jMJdNPf"
      },
      "execution_count": null,
      "outputs": []
    },
    {
      "cell_type": "markdown",
      "source": [
        "READING DATA\n",
        "\n",
        "---"
      ],
      "metadata": {
        "id": "JF4RLhWOYmBk"
      }
    },
    {
      "cell_type": "code",
      "execution_count": null,
      "metadata": {
        "id": "k47bdiAeb8DN"
      },
      "outputs": [],
      "source": [
        "from google.colab import files\n",
        "#uploaded = files.upload()\n",
        "df = pd.read_csv('hw5_data.csv', sep = ',')\n",
        "\n"
      ]
    },
    {
      "cell_type": "code",
      "source": [
        "data = df.dropna().reset_index(drop=True)\n",
        "data = data.to_numpy()\n",
        "data.shape\n"
      ],
      "metadata": {
        "colab": {
          "base_uri": "https://localhost:8080/"
        },
        "id": "h7tRuHjvfdCM",
        "outputId": "565afeaf-6ef5-4020-a02d-f538358368d4"
      },
      "execution_count": null,
      "outputs": [
        {
          "output_type": "execute_result",
          "data": {
            "text/plain": [
              "(4999, 1805)"
            ]
          },
          "metadata": {},
          "execution_count": 5
        }
      ]
    },
    {
      "cell_type": "code",
      "source": [
        "y = df['target']\n",
        "X = df.drop(['target'],axis= 1)\n",
        "#Splitting the dataset into train and test\n",
        "X_train, X_test, y_train, y_test = train_test_split(X, y, test_size=0.30, random_state=4)"
      ],
      "metadata": {
        "id": "Qz7Gvir0fh9-"
      },
      "execution_count": null,
      "outputs": []
    },
    {
      "cell_type": "code",
      "source": [
        "df[\"target\"].value_counts()\n"
      ],
      "metadata": {
        "colab": {
          "base_uri": "https://localhost:8080/"
        },
        "id": "d199HJ0iMIv-",
        "outputId": "150c9318-e2ff-4db7-ece1-9d80c967b5d6"
      },
      "execution_count": null,
      "outputs": [
        {
          "output_type": "execute_result",
          "data": {
            "text/plain": [
              "3    1344\n",
              "2    1060\n",
              "1     696\n",
              "8     559\n",
              "9     472\n",
              "6     371\n",
              "4     233\n",
              "7     192\n",
              "5      72\n",
              "Name: target, dtype: int64"
            ]
          },
          "metadata": {},
          "execution_count": 7
        }
      ]
    },
    {
      "cell_type": "markdown",
      "source": [
        "## FEATURE SELECTION PART\n",
        "\n",
        "---\n",
        "\n",
        "\n",
        "\n",
        "\n"
      ],
      "metadata": {
        "id": "OdRVebUUhjlv"
      }
    },
    {
      "cell_type": "code",
      "source": [
        "lr = LogisticRegression(solver='liblinear')\n",
        "#ANOVA algorithm has \n",
        "from sklearn.feature_selection import f_classif\n",
        "\n",
        "ks = [25, 50, 60, 80, 100, 120, 150, 200, 300]\n",
        "ac = []\n",
        "for k in ks:\n",
        "  select = GenericUnivariateSelect(score_func=f_classif, mode=\"k_best\", param=k)\n",
        "  X_k = select.fit_transform(X, y)\n",
        "  score = cross_val_score(lr, X_k, y, cv=5).mean()\n",
        "  ac.append( score )"
      ],
      "metadata": {
        "id": "iO4XEizZPxNH"
      },
      "execution_count": null,
      "outputs": []
    },
    {
      "cell_type": "code",
      "source": [
        "plt.plot(ks, ac)\n",
        "plt.xlabel('k')\n",
        "plt.ylabel('CV Accuracy')"
      ],
      "metadata": {
        "colab": {
          "base_uri": "https://localhost:8080/",
          "height": 296
        },
        "id": "GiUtjOMQlif0",
        "outputId": "ecddb206-d960-44f5-b84a-64404a4823f8"
      },
      "execution_count": null,
      "outputs": [
        {
          "output_type": "execute_result",
          "data": {
            "text/plain": [
              "Text(0, 0.5, 'CV Accuracy')"
            ]
          },
          "metadata": {},
          "execution_count": 9
        },
        {
          "output_type": "display_data",
          "data": {
            "text/plain": [
              "<Figure size 432x288 with 1 Axes>"
            ],
            "image/png": "[encoded data removed]"
          },
          "metadata": {
            "needs_background": "light"
          }
        }
      ]
    },
    {
      "cell_type": "code",
      "source": [
        "ac"
      ],
      "metadata": {
        "colab": {
          "base_uri": "https://localhost:8080/"
        },
        "id": "ZbPckFk7ooAr",
        "outputId": "0ac22de5-3c7b-4b13-9313-07e454084b6c"
      },
      "execution_count": null,
      "outputs": [
        {
          "output_type": "execute_result",
          "data": {
            "text/plain": [
              "[0.7197463463463464,\n",
              " 0.736144944944945,\n",
              " 0.7351449449449449,\n",
              " 0.7281443443443443,\n",
              " 0.7207425425425426,\n",
              " 0.7227427427427427,\n",
              " 0.7155419419419419,\n",
              " 0.7059395395395395,\n",
              " 0.6815353353353354]"
            ]
          },
          "metadata": {},
          "execution_count": 10
        }
      ]
    },
    {
      "cell_type": "code",
      "source": [
        "# en iyi sonuç 50 feature seçiminde olduğu için 50 tane feature seçimi ANOVA'ya göre yapılmıştır.\n",
        "best_feature_number_select = GenericUnivariateSelect(score_func=f_classif, mode=\"k_best\", param=50)\n",
        "best_X_k = best_feature_number_select.fit_transform(X, y)\n",
        "best_score = cross_val_score(lr, best_X_k, y, cv=5).mean()\n",
        "best_X_k.shape"
      ],
      "metadata": {
        "colab": {
          "base_uri": "https://localhost:8080/"
        },
        "id": "92G6l9416V8T",
        "outputId": "f9a7a6cc-1b53-4291-8e15-a6541a2f6428"
      },
      "execution_count": null,
      "outputs": [
        {
          "output_type": "stream",
          "name": "stderr",
          "text": [
            "/usr/local/lib/python3.8/dist-packages/sklearn/svm/_base.py:1206: ConvergenceWarning: Liblinear failed to converge, increase the number of iterations.\n",
            "  warnings.warn(\n"
          ]
        },
        {
          "output_type": "execute_result",
          "data": {
            "text/plain": [
              "(4999, 50)"
            ]
          },
          "metadata": {},
          "execution_count": 11
        }
      ]
    },
    {
      "cell_type": "code",
      "source": [
        "best_feature_number_select.get_feature_names_out() #the most important 50 feature names"
      ],
      "metadata": {
        "colab": {
          "base_uri": "https://localhost:8080/"
        },
        "id": "oh9igYIkM6tj",
        "outputId": "979dda44-6759-46b4-8546-470e0fa27702"
      },
      "execution_count": null,
      "outputs": [
        {
          "output_type": "execute_result",
          "data": {
            "text/plain": [
              "array(['dd', 'db', 'section_names_.data', 'section_names_.rdata',\n",
              "       'section_names_.text', 'TB_00', 'TB_01', 'TB_02', 'TB_03', 'TB_11',\n",
              "       'TB_12', 'TB_13', 'TB_20', 'TB_22', 'TB_31', 'TB_32', 'TB_33',\n",
              "       'TB_8b', 'TB_cc', 'TB_ff', 'regs_ah', 'regs_bh', 'regs_ch',\n",
              "       'regs_dh', 'regs_eax', 'asm_commands_dd', 'asm_commands_mov',\n",
              "       'asm_commands_or', 'FileSize', 'Offset.1', 'dd5',\n",
              "       'string_len_counts_1', 'string_len_counts_2',\n",
              "       'string_len_counts_0_10', 'string_len_counts_0_100',\n",
              "       'string_total_len', 'Img14', 'Img19', 'Img40', 'Img45',\n",
              "       'line_count_asm', 'size_asm', 'Plus', 'Bracket_Open',\n",
              "       'Bracket_Close', 'ExtendedAscii', 'Img0.1', 'Img1.1', 'Img106',\n",
              "       'Img107'], dtype=object)"
            ]
          },
          "metadata": {},
          "execution_count": 12
        }
      ]
    },
    {
      "cell_type": "code",
      "source": [
        "best_X_k.shape"
      ],
      "metadata": {
        "colab": {
          "base_uri": "https://localhost:8080/"
        },
        "id": "wzZabNUqNssV",
        "outputId": "05142cbc-c9cb-4a17-b945-690236d3dc3f"
      },
      "execution_count": null,
      "outputs": [
        {
          "output_type": "execute_result",
          "data": {
            "text/plain": [
              "(4999, 50)"
            ]
          },
          "metadata": {},
          "execution_count": 13
        }
      ]
    },
    {
      "cell_type": "code",
      "source": [
        "best_df_X = pd.DataFrame(best_X_k, columns = ['dd', 'db', 'section_names_.data', 'section_names_.rdata',\n",
        "       'section_names_.text', 'TB_00', 'TB_01', 'TB_02', 'TB_03', 'TB_11',\n",
        "       'TB_12', 'TB_13', 'TB_20', 'TB_22', 'TB_31', 'TB_32', 'TB_33',\n",
        "       'TB_8b', 'TB_cc', 'TB_ff', 'regs_ah', 'regs_bh', 'regs_ch',\n",
        "       'regs_dh', 'regs_eax', 'asm_commands_dd', 'asm_commands_mov',\n",
        "       'asm_commands_or', 'FileSize', 'Offset.1', 'dd5',\n",
        "       'string_len_counts_1', 'string_len_counts_2',\n",
        "       'string_len_counts_0_10', 'string_len_counts_0_100',\n",
        "       'string_total_len', 'Img14', 'Img19', 'Img40', 'Img45',\n",
        "       'line_count_asm', 'size_asm', 'Plus', 'Bracket_Open',\n",
        "       'Bracket_Close', 'ExtendedAscii', 'Img0.1', 'Img1.1', 'Img106',\n",
        "       'Img107'])\n",
        "best_df_X"
      ],
      "metadata": {
        "colab": {
          "base_uri": "https://localhost:8080/",
          "height": 483
        },
        "id": "tmVUIzlLGxUr",
        "outputId": "59e4dfdd-beac-4533-9608-75ce88696369"
      },
      "execution_count": null,
      "outputs": [
        {
          "output_type": "execute_result",
          "data": {
            "text/plain": [
              "                dd            db  section_names_.data  section_names_.rdata  \\\n",
              "0     87450.000000  6.387700e+04              24568.0               26405.0   \n",
              "1      2911.000000  5.817000e+03               4595.0                   0.0   \n",
              "2       671.000000  1.367070e+06            1366754.0                1794.0   \n",
              "3     65917.000000  1.319000e+03                662.0                1093.0   \n",
              "4       106.000000  1.390000e+02                 57.0                 323.0   \n",
              "...            ...           ...                  ...                   ...   \n",
              "4994    145.000000  8.081200e+04              65552.0               15937.0   \n",
              "4995    171.000000  1.625000e+03               1065.0                 640.0   \n",
              "4996    176.000000  3.357940e+04               1022.0                 220.0   \n",
              "4997  17722.117177  9.175662e+05              31313.0              863731.0   \n",
              "4998    501.000000  1.606820e+05             160441.0                1550.0   \n",
              "\n",
              "      section_names_.text          TB_00        TB_01         TB_02    TB_03  \\\n",
              "0           109939.000000   39755.000000  49536.54806  55116.904226   7186.0   \n",
              "1            10368.000000   19764.000000    710.00000    302.000000    433.0   \n",
              "2            22430.000000  601905.000000   3905.00000   2816.000000   3832.0   \n",
              "3            68883.000000   93506.000000   9542.00000   2568.000000   2438.0   \n",
              "4              744.000000   21091.000000   1213.00000    726.000000    817.0   \n",
              "...                   ...            ...          ...           ...      ...   \n",
              "4994           676.000000   30303.248593    325.00000    330.000000    389.0   \n",
              "4995          2186.000000    7526.000000   4330.00000   3086.000000   3165.0   \n",
              "4996           981.000000   11344.000000   5641.00000   3259.000000   3369.0   \n",
              "4997         41679.914704   68771.000000  22244.00000  21252.000000  20917.0   \n",
              "4998         11753.000000   88143.000000    726.00000    517.000000    480.0   \n",
              "\n",
              "             TB_11  ...  line_count_asm    size_asm          Plus  \\\n",
              "0     82615.903039  ...   118529.000000   6874624.0  89956.000000   \n",
              "1       242.000000  ...    98253.227205    460288.0   4772.000000   \n",
              "2      2740.000000  ...    90625.000000   5256192.0   6027.000000   \n",
              "3      2611.000000  ...    83201.000000   4825600.0  66527.000000   \n",
              "4       407.000000  ...    12289.000000    712704.0    216.000000   \n",
              "...            ...  ...             ...         ...           ...   \n",
              "4994    334.000000  ...     9729.000000    564224.0    641.000000   \n",
              "4995   3056.000000  ...   252838.342877  11329024.0    360.000000   \n",
              "4996   3294.000000  ...   146689.000000   8507904.0  36112.987073   \n",
              "4997  19138.000000  ...    76608.000000   4443250.0   7592.000000   \n",
              "4998    377.000000  ...    13569.000000    786944.0   1943.000000   \n",
              "\n",
              "      Bracket_Open  Bracket_Close  ExtendedAscii        Img0.1         Img1.1  \\\n",
              "0           2359.0         2399.0    15087.00000 -3.564783e+04  173532.591373   \n",
              "1           1619.0         1618.0      579.00000  2.328877e+05 -144114.854823   \n",
              "2           4103.0         3697.0   385051.00000  2.267161e+05  114301.779049   \n",
              "3            526.0          526.0      138.00000  6.587196e+04  230313.046232   \n",
              "4            125.0          125.0    46020.42304  1.049326e+05  -11741.610835   \n",
              "...            ...            ...            ...           ...            ...   \n",
              "4994         476.0          453.0    38809.00000  7.590169e+04  107510.211407   \n",
              "4995         166.0          165.0      136.00000  2.335213e+06   46835.866937   \n",
              "4996          86.0           86.0        0.00000  1.695603e+06   90099.249079   \n",
              "4997        5389.0         5107.0   265184.00000  2.384466e+05  376803.852722   \n",
              "4998         954.0          964.0    43284.00000 -8.950312e+04 -136650.009057   \n",
              "\n",
              "             Img106    Img107  \n",
              "0     171979.000000  162674.0  \n",
              "1       7702.000000    6551.0  \n",
              "2     151324.169975   12946.0  \n",
              "3     122247.000000   98621.0  \n",
              "4      15501.000000   11864.0  \n",
              "...             ...       ...  \n",
              "4994    7100.000000    6002.0  \n",
              "4995   69304.000000   65638.0  \n",
              "4996   71789.000000   68354.0  \n",
              "4997   89989.000000   70139.0  \n",
              "4998    9394.000000    3145.0  \n",
              "\n",
              "[4999 rows x 50 columns]"
            ],
            "text/html": [
              "\n",
              "  <div id=\"df-b93717ad-2504-40f2-8d2f-5d10918c41d3\">\n",
              "    <div class=\"colab-df-container\">\n",
              "      <div>\n",
              "<style scoped>\n",
              "    .dataframe tbody tr th:only-of-type {\n",
              "        vertical-align: middle;\n",
              "    }\n",
              "\n",
              "    .dataframe tbody tr th {\n",
              "        vertical-align: top;\n",
              "    }\n",
              "\n",
              "    .dataframe thead th {\n",
              "        text-align: right;\n",
              "    }\n",
              "</style>\n",
              "<table border=\"1\" class=\"dataframe\">\n",
              "  <thead>\n",
              "    <tr style=\"text-align: right;\">\n",
              "      <th></th>\n",
              "      <th>dd</th>\n",
              "      <th>db</th>\n",
              "      <th>section_names_.data</th>\n",
              "      <th>section_names_.rdata</th>\n",
              "      <th>section_names_.text</th>\n",
              "      <th>TB_00</th>\n",
              "      <th>TB_01</th>\n",
              "      <th>TB_02</th>\n",
              "      <th>TB_03</th>\n",
              "      <th>TB_11</th>\n",
              "      <th>...</th>\n",
              "      <th>line_count_asm</th>\n",
              "      <th>size_asm</th>\n",
              "      <th>Plus</th>\n",
              "      <th>Bracket_Open</th>\n",
              "      <th>Bracket_Close</th>\n",
              "      <th>ExtendedAscii</th>\n",
              "      <th>Img0.1</th>\n",
              "      <th>Img1.1</th>\n",
              "      <th>Img106</th>\n",
              "      <th>Img107</th>\n",
              "    </tr>\n",
              "  </thead>\n",
              "  <tbody>\n",
              "    <tr>\n",
              "      <th>0</th>\n",
              "      <td>87450.000000</td>\n",
              "      <td>6.387700e+04</td>\n",
              "      <td>24568.0</td>\n",
              "      <td>26405.0</td>\n",
              "      <td>109939.000000</td>\n",
              "      <td>39755.000000</td>\n",
              "      <td>49536.54806</td>\n",
              "      <td>55116.904226</td>\n",
              "      <td>7186.0</td>\n",
              "      <td>82615.903039</td>\n",
              "      <td>...</td>\n",
              "      <td>118529.000000</td>\n",
              "      <td>6874624.0</td>\n",
              "      <td>89956.000000</td>\n",
              "      <td>2359.0</td>\n",
              "      <td>2399.0</td>\n",
              "      <td>15087.00000</td>\n",
              "      <td>-3.564783e+04</td>\n",
              "      <td>173532.591373</td>\n",
              "      <td>171979.000000</td>\n",
              "      <td>162674.0</td>\n",
              "    </tr>\n",
              "    <tr>\n",
              "      <th>1</th>\n",
              "      <td>2911.000000</td>\n",
              "      <td>5.817000e+03</td>\n",
              "      <td>4595.0</td>\n",
              "      <td>0.0</td>\n",
              "      <td>10368.000000</td>\n",
              "      <td>19764.000000</td>\n",
              "      <td>710.00000</td>\n",
              "      <td>302.000000</td>\n",
              "      <td>433.0</td>\n",
              "      <td>242.000000</td>\n",
              "      <td>...</td>\n",
              "      <td>98253.227205</td>\n",
              "      <td>460288.0</td>\n",
              "      <td>4772.000000</td>\n",
              "      <td>1619.0</td>\n",
              "      <td>1618.0</td>\n",
              "      <td>579.00000</td>\n",
              "      <td>2.328877e+05</td>\n",
              "      <td>-144114.854823</td>\n",
              "      <td>7702.000000</td>\n",
              "      <td>6551.0</td>\n",
              "    </tr>\n",
              "    <tr>\n",
              "      <th>2</th>\n",
              "      <td>671.000000</td>\n",
              "      <td>1.367070e+06</td>\n",
              "      <td>1366754.0</td>\n",
              "      <td>1794.0</td>\n",
              "      <td>22430.000000</td>\n",
              "      <td>601905.000000</td>\n",
              "      <td>3905.00000</td>\n",
              "      <td>2816.000000</td>\n",
              "      <td>3832.0</td>\n",
              "      <td>2740.000000</td>\n",
              "      <td>...</td>\n",
              "      <td>90625.000000</td>\n",
              "      <td>5256192.0</td>\n",
              "      <td>6027.000000</td>\n",
              "      <td>4103.0</td>\n",
              "      <td>3697.0</td>\n",
              "      <td>385051.00000</td>\n",
              "      <td>2.267161e+05</td>\n",
              "      <td>114301.779049</td>\n",
              "      <td>151324.169975</td>\n",
              "      <td>12946.0</td>\n",
              "    </tr>\n",
              "    <tr>\n",
              "      <th>3</th>\n",
              "      <td>65917.000000</td>\n",
              "      <td>1.319000e+03</td>\n",
              "      <td>662.0</td>\n",
              "      <td>1093.0</td>\n",
              "      <td>68883.000000</td>\n",
              "      <td>93506.000000</td>\n",
              "      <td>9542.00000</td>\n",
              "      <td>2568.000000</td>\n",
              "      <td>2438.0</td>\n",
              "      <td>2611.000000</td>\n",
              "      <td>...</td>\n",
              "      <td>83201.000000</td>\n",
              "      <td>4825600.0</td>\n",
              "      <td>66527.000000</td>\n",
              "      <td>526.0</td>\n",
              "      <td>526.0</td>\n",
              "      <td>138.00000</td>\n",
              "      <td>6.587196e+04</td>\n",
              "      <td>230313.046232</td>\n",
              "      <td>122247.000000</td>\n",
              "      <td>98621.0</td>\n",
              "    </tr>\n",
              "    <tr>\n",
              "      <th>4</th>\n",
              "      <td>106.000000</td>\n",
              "      <td>1.390000e+02</td>\n",
              "      <td>57.0</td>\n",
              "      <td>323.0</td>\n",
              "      <td>744.000000</td>\n",
              "      <td>21091.000000</td>\n",
              "      <td>1213.00000</td>\n",
              "      <td>726.000000</td>\n",
              "      <td>817.0</td>\n",
              "      <td>407.000000</td>\n",
              "      <td>...</td>\n",
              "      <td>12289.000000</td>\n",
              "      <td>712704.0</td>\n",
              "      <td>216.000000</td>\n",
              "      <td>125.0</td>\n",
              "      <td>125.0</td>\n",
              "      <td>46020.42304</td>\n",
              "      <td>1.049326e+05</td>\n",
              "      <td>-11741.610835</td>\n",
              "      <td>15501.000000</td>\n",
              "      <td>11864.0</td>\n",
              "    </tr>\n",
              "    <tr>\n",
              "      <th>...</th>\n",
              "      <td>...</td>\n",
              "      <td>...</td>\n",
              "      <td>...</td>\n",
              "      <td>...</td>\n",
              "      <td>...</td>\n",
              "      <td>...</td>\n",
              "      <td>...</td>\n",
              "      <td>...</td>\n",
              "      <td>...</td>\n",
              "      <td>...</td>\n",
              "      <td>...</td>\n",
              "      <td>...</td>\n",
              "      <td>...</td>\n",
              "      <td>...</td>\n",
              "      <td>...</td>\n",
              "      <td>...</td>\n",
              "      <td>...</td>\n",
              "      <td>...</td>\n",
              "      <td>...</td>\n",
              "      <td>...</td>\n",
              "      <td>...</td>\n",
              "    </tr>\n",
              "    <tr>\n",
              "      <th>4994</th>\n",
              "      <td>145.000000</td>\n",
              "      <td>8.081200e+04</td>\n",
              "      <td>65552.0</td>\n",
              "      <td>15937.0</td>\n",
              "      <td>676.000000</td>\n",
              "      <td>30303.248593</td>\n",
              "      <td>325.00000</td>\n",
              "      <td>330.000000</td>\n",
              "      <td>389.0</td>\n",
              "      <td>334.000000</td>\n",
              "      <td>...</td>\n",
              "      <td>9729.000000</td>\n",
              "      <td>564224.0</td>\n",
              "      <td>641.000000</td>\n",
              "      <td>476.0</td>\n",
              "      <td>453.0</td>\n",
              "      <td>38809.00000</td>\n",
              "      <td>7.590169e+04</td>\n",
              "      <td>107510.211407</td>\n",
              "      <td>7100.000000</td>\n",
              "      <td>6002.0</td>\n",
              "    </tr>\n",
              "    <tr>\n",
              "      <th>4995</th>\n",
              "      <td>171.000000</td>\n",
              "      <td>1.625000e+03</td>\n",
              "      <td>1065.0</td>\n",
              "      <td>640.0</td>\n",
              "      <td>2186.000000</td>\n",
              "      <td>7526.000000</td>\n",
              "      <td>4330.00000</td>\n",
              "      <td>3086.000000</td>\n",
              "      <td>3165.0</td>\n",
              "      <td>3056.000000</td>\n",
              "      <td>...</td>\n",
              "      <td>252838.342877</td>\n",
              "      <td>11329024.0</td>\n",
              "      <td>360.000000</td>\n",
              "      <td>166.0</td>\n",
              "      <td>165.0</td>\n",
              "      <td>136.00000</td>\n",
              "      <td>2.335213e+06</td>\n",
              "      <td>46835.866937</td>\n",
              "      <td>69304.000000</td>\n",
              "      <td>65638.0</td>\n",
              "    </tr>\n",
              "    <tr>\n",
              "      <th>4996</th>\n",
              "      <td>176.000000</td>\n",
              "      <td>3.357940e+04</td>\n",
              "      <td>1022.0</td>\n",
              "      <td>220.0</td>\n",
              "      <td>981.000000</td>\n",
              "      <td>11344.000000</td>\n",
              "      <td>5641.00000</td>\n",
              "      <td>3259.000000</td>\n",
              "      <td>3369.0</td>\n",
              "      <td>3294.000000</td>\n",
              "      <td>...</td>\n",
              "      <td>146689.000000</td>\n",
              "      <td>8507904.0</td>\n",
              "      <td>36112.987073</td>\n",
              "      <td>86.0</td>\n",
              "      <td>86.0</td>\n",
              "      <td>0.00000</td>\n",
              "      <td>1.695603e+06</td>\n",
              "      <td>90099.249079</td>\n",
              "      <td>71789.000000</td>\n",
              "      <td>68354.0</td>\n",
              "    </tr>\n",
              "    <tr>\n",
              "      <th>4997</th>\n",
              "      <td>17722.117177</td>\n",
              "      <td>9.175662e+05</td>\n",
              "      <td>31313.0</td>\n",
              "      <td>863731.0</td>\n",
              "      <td>41679.914704</td>\n",
              "      <td>68771.000000</td>\n",
              "      <td>22244.00000</td>\n",
              "      <td>21252.000000</td>\n",
              "      <td>20917.0</td>\n",
              "      <td>19138.000000</td>\n",
              "      <td>...</td>\n",
              "      <td>76608.000000</td>\n",
              "      <td>4443250.0</td>\n",
              "      <td>7592.000000</td>\n",
              "      <td>5389.0</td>\n",
              "      <td>5107.0</td>\n",
              "      <td>265184.00000</td>\n",
              "      <td>2.384466e+05</td>\n",
              "      <td>376803.852722</td>\n",
              "      <td>89989.000000</td>\n",
              "      <td>70139.0</td>\n",
              "    </tr>\n",
              "    <tr>\n",
              "      <th>4998</th>\n",
              "      <td>501.000000</td>\n",
              "      <td>1.606820e+05</td>\n",
              "      <td>160441.0</td>\n",
              "      <td>1550.0</td>\n",
              "      <td>11753.000000</td>\n",
              "      <td>88143.000000</td>\n",
              "      <td>726.00000</td>\n",
              "      <td>517.000000</td>\n",
              "      <td>480.0</td>\n",
              "      <td>377.000000</td>\n",
              "      <td>...</td>\n",
              "      <td>13569.000000</td>\n",
              "      <td>786944.0</td>\n",
              "      <td>1943.000000</td>\n",
              "      <td>954.0</td>\n",
              "      <td>964.0</td>\n",
              "      <td>43284.00000</td>\n",
              "      <td>-8.950312e+04</td>\n",
              "      <td>-136650.009057</td>\n",
              "      <td>9394.000000</td>\n",
              "      <td>3145.0</td>\n",
              "    </tr>\n",
              "  </tbody>\n",
              "</table>\n",
              "<p>4999 rows × 50 columns</p>\n",
              "</div>\n",
              "      <button class=\"colab-df-convert\" onclick=\"convertToInteractive('df-b93717ad-2504-40f2-8d2f-5d10918c41d3')\"\n",
              "              title=\"Convert this dataframe to an interactive table.\"\n",
              "              style=\"display:none;\">\n",
              "        \n",
              "  <svg xmlns=\"http://www.w3.org/2000/svg\" height=\"24px\"viewBox=\"0 0 24 24\"\n",
              "       width=\"24px\">\n",
              "    <path d=\"M0 0h24v24H0V0z\" fill=\"none\"/>\n",
              "    <path d=\"M18.56 5.44l.94 2.06.94-2.06 2.06-.94-2.06-.94-.94-2.06-.94 2.06-2.06.94zm-11 1L8.5 8.5l.94-2.06 2.06-.94-2.06-.94L8.5 2.5l-.94 2.06-2.06.94zm10 10l.94 2.06.94-2.06 2.06-.94-2.06-.94-.94-2.06-.94 2.06-2.06.94z\"/><path d=\"M17.41 7.96l-1.37-1.37c-.4-.4-.92-.59-1.43-.59-.52 0-1.04.2-1.43.59L10.3 9.45l-7.72 7.72c-.78.78-.78 2.05 0 2.83L4 21.41c.39.39.9.59 1.41.59.51 0 1.02-.2 1.41-.59l7.78-7.78 2.81-2.81c.8-.78.8-2.07 0-2.86zM5.41 20L4 18.59l7.72-7.72 1.47 1.35L5.41 20z\"/>\n",
              "  </svg>\n",
              "      </button>\n",
              "      \n",
              "  <style>\n",
              "    .colab-df-container {\n",
              "      display:flex;\n",
              "      flex-wrap:wrap;\n",
              "      gap: 12px;\n",
              "    }\n",
              "\n",
              "    .colab-df-convert {\n",
              "      background-color: #E8F0FE;\n",
              "      border: none;\n",
              "      border-radius: 50%;\n",
              "      cursor: pointer;\n",
              "      display: none;\n",
              "      fill: #1967D2;\n",
              "      height: 32px;\n",
              "      padding: 0 0 0 0;\n",
              "      width: 32px;\n",
              "    }\n",
              "\n",
              "    .colab-df-convert:hover {\n",
              "      background-color: #E2EBFA;\n",
              "      box-shadow: 0px 1px 2px rgba(60, 64, 67, 0.3), 0px 1px 3px 1px rgba(60, 64, 67, 0.15);\n",
              "      fill: #174EA6;\n",
              "    }\n",
              "\n",
              "    [theme=dark] .colab-df-convert {\n",
              "      background-color: #3B4455;\n",
              "      fill: #D2E3FC;\n",
              "    }\n",
              "\n",
              "    [theme=dark] .colab-df-convert:hover {\n",
              "      background-color: #434B5C;\n",
              "      box-shadow: 0px 1px 3px 1px rgba(0, 0, 0, 0.15);\n",
              "      filter: drop-shadow(0px 1px 2px rgba(0, 0, 0, 0.3));\n",
              "      fill: #FFFFFF;\n",
              "    }\n",
              "  </style>\n",
              "\n",
              "      <script>\n",
              "        const buttonEl =\n",
              "          document.querySelector('#df-b93717ad-2504-40f2-8d2f-5d10918c41d3 button.colab-df-convert');\n",
              "        buttonEl.style.display =\n",
              "          google.colab.kernel.accessAllowed ? 'block' : 'none';\n",
              "\n",
              "        async function convertToInteractive(key) {\n",
              "          const element = document.querySelector('#df-b93717ad-2504-40f2-8d2f-5d10918c41d3');\n",
              "          const dataTable =\n",
              "            await google.colab.kernel.invokeFunction('convertToInteractive',\n",
              "                                                     [key], {});\n",
              "          if (!dataTable) return;\n",
              "\n",
              "          const docLinkHtml = 'Like what you see? Visit the ' +\n",
              "            '<a target=\"_blank\" href=https://colab.research.google.com/notebooks/data_table.ipynb>data table notebook</a>'\n",
              "            + ' to learn more about interactive tables.';\n",
              "          element.innerHTML = '';\n",
              "          dataTable['output_type'] = 'display_data';\n",
              "          await google.colab.output.renderOutput(dataTable, element);\n",
              "          const docLink = document.createElement('div');\n",
              "          docLink.innerHTML = docLinkHtml;\n",
              "          element.appendChild(docLink);\n",
              "        }\n",
              "      </script>\n",
              "    </div>\n",
              "  </div>\n",
              "  "
            ]
          },
          "metadata": {},
          "execution_count": 14
        }
      ]
    },
    {
      "cell_type": "code",
      "source": [
        "#concatenate 50 features and target\n",
        "best_df = best_df_X\n",
        "best_df['target'] = y\n",
        "\n",
        "# split \n",
        "X_train_best, X_test_best, y_train_best, y_test_best = train_test_split(best_df_X, y, test_size=0.30, random_state=4)\n"
      ],
      "metadata": {
        "id": "31-PL_LwwoZg"
      },
      "execution_count": null,
      "outputs": []
    },
    {
      "cell_type": "markdown",
      "source": [
        "## K-FOLD ALGORITHM PREPERATION\n",
        "\n",
        "---\n",
        "\n"
      ],
      "metadata": {
        "id": "OYeveudHiIqF"
      }
    },
    {
      "cell_type": "code",
      "source": [
        "from sklearn.model_selection import StratifiedKFold\n",
        "from sklearn.metrics import accuracy_score\n",
        "\n",
        "skf = StratifiedKFold(n_splits=10)\n"
      ],
      "metadata": {
        "id": "wiiseSLRBuGD"
      },
      "execution_count": null,
      "outputs": []
    },
    {
      "cell_type": "markdown",
      "source": [
        "## LOGISTIC REGRESSION WITK K-FOLD\n",
        "\n",
        "---\n",
        "\n"
      ],
      "metadata": {
        "id": "mzZeGiZGiX_H"
      }
    },
    {
      "cell_type": "code",
      "source": [
        "#logistic regression and it's scores.\n",
        "#best_df_X has 50 features.\n",
        "score_lr=cross_val_score(LogisticRegression(solver='liblinear',multi_class='ovr'), best_df_X, y,cv=skf)\n",
        "print(score_lr)\n",
        "print(\"Avg :\",np.average(score_lr))"
      ],
      "metadata": {
        "colab": {
          "base_uri": "https://localhost:8080/"
        },
        "id": "lqL6Qy66mgjr",
        "outputId": "d6683813-d1f3-4a00-97e7-c6c7a2477084"
      },
      "execution_count": null,
      "outputs": [
        {
          "output_type": "stream",
          "name": "stderr",
          "text": [
            "/usr/local/lib/python3.8/dist-packages/sklearn/svm/_base.py:1206: ConvergenceWarning: Liblinear failed to converge, increase the number of iterations.\n",
            "  warnings.warn(\n",
            "/usr/local/lib/python3.8/dist-packages/sklearn/svm/_base.py:1206: ConvergenceWarning: Liblinear failed to converge, increase the number of iterations.\n",
            "  warnings.warn(\n"
          ]
        },
        {
          "output_type": "stream",
          "name": "stdout",
          "text": [
            "[0.728      0.74       0.748      0.772      0.74       0.714\n",
            " 0.752      0.71       0.748      0.73146293]\n",
            "Avg : 0.7383462925851704\n"
          ]
        }
      ]
    },
    {
      "cell_type": "markdown",
      "source": [],
      "metadata": {
        "id": "BHmaqxwJTSp6"
      }
    },
    {
      "cell_type": "markdown",
      "source": [
        "## DESICION TREE CLASSIFIER WITH GRID SEARCH\n",
        "\n",
        "---\n",
        "\n"
      ],
      "metadata": {
        "id": "vjzvG0qyijVm"
      }
    },
    {
      "cell_type": "code",
      "source": [
        "from sklearn import tree as tr\n",
        "\n",
        "from sklearn.pipeline import Pipeline\n",
        "from sklearn.model_selection import GridSearchCV\n",
        "from sklearn.tree import DecisionTreeClassifier\n",
        "from sklearn import metrics\n",
        "\n",
        "\n",
        "tree = DecisionTreeClassifier(max_depth=10)\n",
        "param_grid = [\n",
        "  {'min_samples_split': [2, 3, 4, 5, 6, 7, 8, 10],\n",
        "   'max_depth': [ 20, 22, 24, 26, 28, 30],\n",
        "   'criterion': ['gini', 'entropy']},\n",
        " ]\n",
        "\n",
        "clf = GridSearchCV(tree, param_grid, cv=5)  \n",
        "clf.fit(X_train_best, y_train_best)\n"
      ],
      "metadata": {
        "colab": {
          "base_uri": "https://localhost:8080/"
        },
        "id": "30-E6aqMvq69",
        "outputId": "0ecabb02-76ae-4b70-fa8e-0a68609e01c8"
      },
      "execution_count": null,
      "outputs": [
        {
          "output_type": "execute_result",
          "data": {
            "text/plain": [
              "GridSearchCV(cv=5, estimator=DecisionTreeClassifier(max_depth=10),\n",
              "             param_grid=[{'criterion': ['gini', 'entropy'],\n",
              "                          'max_depth': [20, 22, 24, 26, 28, 30],\n",
              "                          'min_samples_split': [2, 3, 4, 5, 6, 7, 8, 10]}])"
            ]
          },
          "metadata": {},
          "execution_count": 18
        }
      ]
    },
    {
      "cell_type": "code",
      "source": [
        "clf.best_params_"
      ],
      "metadata": {
        "colab": {
          "base_uri": "https://localhost:8080/"
        },
        "id": "cHetU16PvuK-",
        "outputId": "e79d9c4b-dd94-457e-805c-1d464a174405"
      },
      "execution_count": null,
      "outputs": [
        {
          "output_type": "execute_result",
          "data": {
            "text/plain": [
              "{'criterion': 'entropy', 'max_depth': 20, 'min_samples_split': 2}"
            ]
          },
          "metadata": {},
          "execution_count": 19
        }
      ]
    },
    {
      "cell_type": "code",
      "source": [
        "\n",
        "\n",
        "# Create Decision Tree classifer object\n",
        "clf = DecisionTreeClassifier( criterion= 'entropy', max_depth = 20, min_samples_split=2 )\n",
        "\n",
        "# Train Decision Tree Classifer\n",
        "clf = clf.fit(X_train_best,y_train_best)\n",
        "\n",
        "#Predict the response for test dataset\n",
        "y_pred1 = clf.predict(X_test_best)"
      ],
      "metadata": {
        "id": "cvvO9zHHBjGo"
      },
      "execution_count": null,
      "outputs": []
    },
    {
      "cell_type": "code",
      "source": [
        "# Model Accuracy, how often is the classifier correct?\n",
        "#there is overfitting problem!\n",
        "print(\"Accuracy:\",metrics.accuracy_score(y_test, y_pred1))\n",
        "#overfit problem!!"
      ],
      "metadata": {
        "colab": {
          "base_uri": "https://localhost:8080/"
        },
        "id": "8PyXxWOfB5vy",
        "outputId": "b81228de-5cda-4706-853b-8b6340d6a038"
      },
      "execution_count": null,
      "outputs": [
        {
          "output_type": "stream",
          "name": "stdout",
          "text": [
            "Accuracy: 1.0\n"
          ]
        }
      ]
    },
    {
      "cell_type": "code",
      "source": [
        "#desicion tree score for 50 selected features\n",
        "# because of overfitting here comes cross validation to make model stable\n",
        "cross_val_score1 = cross_val_score(DecisionTreeClassifier(criterion= 'entropy',max_depth = 20, min_samples_split=2 ), best_X_k, y, cv=skf).mean()\n",
        "print(\"K-fold cross validation score:\", cross_val_score1)"
      ],
      "metadata": {
        "colab": {
          "base_uri": "https://localhost:8080/"
        },
        "id": "Xnv2CeCGCJ66",
        "outputId": "4af5d3b0-28ca-4b7d-936a-d3a59a55b6ec"
      },
      "execution_count": null,
      "outputs": [
        {
          "output_type": "stream",
          "name": "stdout",
          "text": [
            "K-fold cross validation score: 0.7919643286573147\n"
          ]
        }
      ]
    },
    {
      "cell_type": "markdown",
      "source": [
        "## RANDOM FOREST MODEL WITH GRID SEARCH\n",
        "\n",
        "---\n",
        "\n"
      ],
      "metadata": {
        "id": "xTZ2KR0iitwA"
      }
    },
    {
      "cell_type": "code",
      "source": [
        "#Import Random Forest Model\n",
        "from sklearn.ensemble import RandomForestClassifier\n",
        "\n",
        "#Create a Gaussian Classifier\n",
        "clf=RandomForestClassifier(n_estimators=100)\n",
        "\n",
        "#Train the model using the training sets y_pred=clf.predict(X_test)\n",
        "clf.fit(X_train_best,y_train_best)\n",
        "\n",
        "y_pred=clf.predict(X_test_best)"
      ],
      "metadata": {
        "id": "H22Cyia7_pUz"
      },
      "execution_count": null,
      "outputs": []
    },
    {
      "cell_type": "code",
      "source": [
        "\n",
        "print(\"Accuracy:\",metrics.accuracy_score(y_test_best, y_pred))"
      ],
      "metadata": {
        "colab": {
          "base_uri": "https://localhost:8080/"
        },
        "id": "ee_ERNnWAqLO",
        "outputId": "d4e0ee43-f6d9-4e2a-b9e2-6deb1236d1ab"
      },
      "execution_count": null,
      "outputs": [
        {
          "output_type": "stream",
          "name": "stdout",
          "text": [
            "Accuracy: 0.9386666666666666\n"
          ]
        }
      ]
    },
    {
      "cell_type": "code",
      "source": [
        "randomForest = RandomForestClassifier(max_depth=10)\n",
        "param_grid = [\n",
        "  {'min_samples_split': [2, 3, 4, 5, 6, 7, 8, 10],\n",
        "   'max_depth': [ 20, 22, 24, 26, 28, 30],\n",
        "   'criterion': ['gini', 'entropy']},\n",
        " ]\n",
        "\n",
        "clf2 = GridSearchCV(randomForest, param_grid, cv=5)  \n",
        "clf2.fit(X_train_best, y_train_best)"
      ],
      "metadata": {
        "colab": {
          "base_uri": "https://localhost:8080/"
        },
        "id": "4E7-7SpeD2QE",
        "outputId": "a7d63888-3ec0-4690-e2f8-a5aac24fa824"
      },
      "execution_count": null,
      "outputs": [
        {
          "output_type": "execute_result",
          "data": {
            "text/plain": [
              "GridSearchCV(cv=5, estimator=RandomForestClassifier(max_depth=10),\n",
              "             param_grid=[{'criterion': ['gini', 'entropy'],\n",
              "                          'max_depth': [20, 22, 24, 26, 28, 30],\n",
              "                          'min_samples_split': [2, 3, 4, 5, 6, 7, 8, 10]}])"
            ]
          },
          "metadata": {},
          "execution_count": 25
        }
      ]
    },
    {
      "cell_type": "code",
      "source": [
        "clf2.best_params_"
      ],
      "metadata": {
        "colab": {
          "base_uri": "https://localhost:8080/"
        },
        "id": "IfLDnkOaEEOE",
        "outputId": "cd4cee03-cf46-4c9d-f36f-245a4b01f682"
      },
      "execution_count": null,
      "outputs": [
        {
          "output_type": "execute_result",
          "data": {
            "text/plain": [
              "{'criterion': 'gini', 'max_depth': 28, 'min_samples_split': 7}"
            ]
          },
          "metadata": {},
          "execution_count": 26
        }
      ]
    },
    {
      "cell_type": "code",
      "source": [
        "#random forest score for 50 selected features\n",
        "cross_val_score2 = cross_val_score(RandomForestClassifier(criterion= 'gini',max_depth = 28, min_samples_split=3 ), best_X_k, y, cv=skf).mean()\n",
        "print(\"K-fold cross validation score:\", cross_val_score2)\n",
        "\n",
        "#Although optimal max split score should be 7, as far as I know increasing the samples split is not good. So, min_samples_splir = 3 here."
      ],
      "metadata": {
        "colab": {
          "base_uri": "https://localhost:8080/"
        },
        "id": "5GZe0smeEBy2",
        "outputId": "40700cbf-62e2-4d0f-e8bb-901563defd6a"
      },
      "execution_count": null,
      "outputs": [
        {
          "output_type": "stream",
          "name": "stdout",
          "text": [
            "K-fold cross validation score: 0.9041835671342685\n"
          ]
        }
      ]
    },
    {
      "cell_type": "markdown",
      "source": [
        "## KNN-CLASSIFIER WITH GRID SEARCH \n",
        "\n",
        "---\n",
        "\n"
      ],
      "metadata": {
        "id": "ijvld3l1i2YW"
      }
    },
    {
      "cell_type": "code",
      "source": [
        "\n",
        "#Import knearest neighbors Classifier model\n",
        "from sklearn.neighbors import KNeighborsClassifier\n",
        "\n",
        "#Create KNN Classifier\n",
        "knn = KNeighborsClassifier(n_neighbors=5)\n",
        "\n",
        "#Train the model using the training sets\n",
        "knn.fit(X_train_best, y_train_best)\n",
        "\n",
        "#Predict the response for test dataset\n",
        "y_pred2 = knn.predict(X_test_best)"
      ],
      "metadata": {
        "id": "I1ft8w2vk7ZQ"
      },
      "execution_count": null,
      "outputs": []
    },
    {
      "cell_type": "code",
      "source": [
        "print(\"Accuracy:\",metrics.accuracy_score(y_test_best, y_pred2))"
      ],
      "metadata": {
        "colab": {
          "base_uri": "https://localhost:8080/"
        },
        "id": "bNnyptQ5lMLu",
        "outputId": "1ed61ea8-cda4-421e-fa1c-405ddb633bf3"
      },
      "execution_count": null,
      "outputs": [
        {
          "output_type": "stream",
          "name": "stdout",
          "text": [
            "Accuracy: 0.8366666666666667\n"
          ]
        }
      ]
    },
    {
      "cell_type": "code",
      "source": [
        "param_grid = [\n",
        "  {'n_neighbors': [2, 3, 4, 5, 6, 7, 8, 10]}\n",
        " ]\n",
        "\n",
        "clf4 = GridSearchCV(knn, param_grid, cv=5)  \n",
        "clf4.fit(X_train_best, y_train_best)"
      ],
      "metadata": {
        "colab": {
          "base_uri": "https://localhost:8080/"
        },
        "id": "0PZ4xGojlP6S",
        "outputId": "ebca7acf-e0e2-4483-82e0-e052ad06e3c2"
      },
      "execution_count": null,
      "outputs": [
        {
          "output_type": "execute_result",
          "data": {
            "text/plain": [
              "GridSearchCV(cv=5, estimator=KNeighborsClassifier(),\n",
              "             param_grid=[{'n_neighbors': [2, 3, 4, 5, 6, 7, 8, 10]}])"
            ]
          },
          "metadata": {},
          "execution_count": 30
        }
      ]
    },
    {
      "cell_type": "code",
      "source": [
        "clf4.best_params_"
      ],
      "metadata": {
        "colab": {
          "base_uri": "https://localhost:8080/"
        },
        "id": "cFEEwAfPsxTk",
        "outputId": "77dc1f96-6cab-4312-f3ee-06bf5a90e395"
      },
      "execution_count": null,
      "outputs": [
        {
          "output_type": "execute_result",
          "data": {
            "text/plain": [
              "{'n_neighbors': 6}"
            ]
          },
          "metadata": {},
          "execution_count": 31
        }
      ]
    },
    {
      "cell_type": "code",
      "source": [
        "#knn cross validation score for 50 selected features\n",
        "cross_val_score3 = cross_val_score(KNeighborsClassifier(n_neighbors=6), best_X_k, y, cv=skf).mean()\n",
        "print(\"KNN cross validation score:\", cross_val_score3)"
      ],
      "metadata": {
        "colab": {
          "base_uri": "https://localhost:8080/"
        },
        "id": "f-C6I92bOFOp",
        "outputId": "240ecc6b-301f-466d-f46e-4e61e78e0548"
      },
      "execution_count": null,
      "outputs": [
        {
          "output_type": "stream",
          "name": "stdout",
          "text": [
            "KNN cross validation score: 0.8383675350701403\n"
          ]
        }
      ]
    },
    {
      "cell_type": "markdown",
      "source": [
        "## GAUSSIAN NAIVE BAYES \n",
        "\n",
        "---\n",
        "\n"
      ],
      "metadata": {
        "id": "4dWd9xRyjARY"
      }
    },
    {
      "cell_type": "code",
      "source": [
        "#Import Gaussian Naive Bayes model\n",
        "from sklearn.naive_bayes import GaussianNB\n",
        "\n",
        "#Create a Gaussian Classifier\n",
        "gnb = GaussianNB()\n",
        "\n",
        "#Train the model using the training sets\n",
        "gnb.fit(X_train_best, y_train_best)\n",
        "\n",
        "#Predict the response for test dataset\n",
        "y_pred3 = gnb.predict(X_test_best)"
      ],
      "metadata": {
        "id": "zxN7G6BIYBnd"
      },
      "execution_count": null,
      "outputs": []
    },
    {
      "cell_type": "code",
      "source": [
        "#The assumption of independent features. \n",
        "#In practice, it is almost impossible that model will get a set of predictors which are entirely independent.\n",
        "#So accuracy is lower than the others. \n",
        "print(\"Accuracy:\",metrics.accuracy_score(y_test_best, y_pred3))\n",
        "\n",
        "#Since cross validation cause lower score, there is no cross validation."
      ],
      "metadata": {
        "colab": {
          "base_uri": "https://localhost:8080/"
        },
        "id": "omBdeHJpYkET",
        "outputId": "3be662f1-72d4-4bce-c40d-9ce708ca16b5"
      },
      "execution_count": null,
      "outputs": [
        {
          "output_type": "stream",
          "name": "stdout",
          "text": [
            "Accuracy: 0.6126666666666667\n"
          ]
        }
      ]
    },
    {
      "cell_type": "markdown",
      "source": [
        "## K-MEANS ALGORITHM, ELBOW METHOD AND GRID SEARCH\n",
        "\n",
        "---\n",
        "\n"
      ],
      "metadata": {
        "id": "byU9TBxFjMLp"
      }
    },
    {
      "cell_type": "code",
      "source": [
        "from sklearn.cluster import KMeans\n",
        "from sklearn.preprocessing import MinMaxScaler\n",
        "scaler = MinMaxScaler()\n",
        "X_scaled = scaler.fit_transform(X_train_best, y_train_best)\n",
        "kmeans = KMeans( n_clusters=4, max_iter=200, algorithm = 'auto')\n",
        "kmeans.fit(X_scaled)"
      ],
      "metadata": {
        "colab": {
          "base_uri": "https://localhost:8080/"
        },
        "id": "hnJ2O5RxccpU",
        "outputId": "df77a811-be92-44ea-fae9-f35bd96cd2c2"
      },
      "execution_count": null,
      "outputs": [
        {
          "output_type": "execute_result",
          "data": {
            "text/plain": [
              "KMeans(max_iter=200, n_clusters=4)"
            ]
          },
          "metadata": {},
          "execution_count": 65
        }
      ]
    },
    {
      "cell_type": "code",
      "source": [
        "y_pred4 = kmeans.predict(X_test_best)"
      ],
      "metadata": {
        "colab": {
          "base_uri": "https://localhost:8080/"
        },
        "id": "rYypBPEahfU7",
        "outputId": "e23f839a-ad82-4b4c-a23d-ee09fe8f1ff6"
      },
      "execution_count": null,
      "outputs": [
        {
          "output_type": "stream",
          "name": "stderr",
          "text": [
            "/usr/local/lib/python3.8/dist-packages/sklearn/base.py:443: UserWarning: X has feature names, but KMeans was fitted without feature names\n",
            "  warnings.warn(\n"
          ]
        }
      ]
    },
    {
      "cell_type": "code",
      "source": [
        "print(\"Accuracy:\",metrics.accuracy_score(y_test_best, y_pred4))"
      ],
      "metadata": {
        "colab": {
          "base_uri": "https://localhost:8080/"
        },
        "id": "A1VAr0jSh56Q",
        "outputId": "0284220a-e8c1-425a-e54d-22ec2095e808"
      },
      "execution_count": null,
      "outputs": [
        {
          "output_type": "stream",
          "name": "stdout",
          "text": [
            "Accuracy: 0.024\n"
          ]
        }
      ]
    },
    {
      "cell_type": "code",
      "source": [
        "scores = []\n",
        "#elbow method\n",
        "for k in range(2, 10):\n",
        "  kmeans = KMeans(n_clusters=k)\n",
        "  kmeans.fit(df)\n",
        "  scores.append( -kmeans.score(df) )\n",
        "  \n",
        "plt.figure(figsize=(10, 5))\n",
        "\n",
        "plt.subplot(121)\n",
        "plt.plot([k for k in range(2,10)], scores, 'bx-')"
      ],
      "metadata": {
        "colab": {
          "base_uri": "https://localhost:8080/",
          "height": 348
        },
        "id": "2Yo6WRYgWHFG",
        "outputId": "f806465e-13a3-4239-c477-2b1ec83819d8"
      },
      "execution_count": null,
      "outputs": [
        {
          "output_type": "execute_result",
          "data": {
            "text/plain": [
              "[<matplotlib.lines.Line2D at 0x7f0467b41640>]"
            ]
          },
          "metadata": {},
          "execution_count": 46
        },
        {
          "output_type": "display_data",
          "data": {
            "text/plain": [
              "<Figure size 720x360 with 1 Axes>"
            ],
            "image/png": "[encoded data removed]"
          },
          "metadata": {
            "needs_background": "light"
          }
        }
      ]
    },
    {
      "cell_type": "code",
      "source": [
        "param_grid = [\n",
        "  {'n_clusters': [2, 3, 4, 5, 6, 7, 8,9, 10],\n",
        "   'max_iter': [100,200,300,400,500]}\n",
        " ]\n",
        "\n",
        "clf5 = GridSearchCV(kmeans, param_grid, cv=5)  \n",
        "clf5.fit(X_train_best, y_train_best)"
      ],
      "metadata": {
        "colab": {
          "base_uri": "https://localhost:8080/"
        },
        "id": "WCccimbVgTFh",
        "outputId": "4cbdc44e-98ef-4e82-877a-d8383df8fb95"
      },
      "execution_count": null,
      "outputs": [
        {
          "output_type": "execute_result",
          "data": {
            "text/plain": [
              "GridSearchCV(cv=5, estimator=KMeans(max_iter=200, n_clusters=4),\n",
              "             param_grid=[{'max_iter': [100, 200, 300, 400, 500],\n",
              "                          'n_clusters': [2, 3, 4, 5, 6, 7, 8, 9, 10]}])"
            ]
          },
          "metadata": {},
          "execution_count": 38
        }
      ]
    },
    {
      "cell_type": "code",
      "source": [
        "clf5.best_params_"
      ],
      "metadata": {
        "colab": {
          "base_uri": "https://localhost:8080/"
        },
        "id": "7r7VUmmKhJUD",
        "outputId": "0cd23bf3-fd93-4d98-a691-9938c8039a01"
      },
      "execution_count": null,
      "outputs": [
        {
          "output_type": "execute_result",
          "data": {
            "text/plain": [
              "{'max_iter': 200, 'n_clusters': 10}"
            ]
          },
          "metadata": {},
          "execution_count": 69
        }
      ]
    },
    {
      "cell_type": "code",
      "source": [
        "cross_val_score4 = cross_val_score(KMeans( n_clusters=9, max_iter=200, algorithm = 'auto'), best_X_k, y, cv=skf).mean()\n",
        "print(\"Kmean cross validation score:\", cross_val_score4)\n",
        "#Why this is negative ? "
      ],
      "metadata": {
        "colab": {
          "base_uri": "https://localhost:8080/"
        },
        "id": "vQjglXxXhdV3",
        "outputId": "5531a4b4-d5b7-4be3-81a0-1e140940defb"
      },
      "execution_count": null,
      "outputs": [
        {
          "output_type": "stream",
          "name": "stdout",
          "text": [
            "Kmean cross validation score: -7.939284320309414e+16\n"
          ]
        }
      ]
    },
    {
      "cell_type": "markdown",
      "source": [
        "## XGBCLASSIFIER WITH GRID SEARCH\n",
        "\n",
        "---\n",
        "\n"
      ],
      "metadata": {
        "id": "DJ2TK_RajT6Y"
      }
    },
    {
      "cell_type": "code",
      "source": [
        "from xgboost import XGBClassifier\n",
        "xgb = XGBClassifier()\n",
        "\n",
        "#Train the model using the training sets\n",
        "xgb.fit(X_train_best, y_train_best)\n",
        "\n",
        "#Predict the response for test dataset\n",
        "y_pred5 = xgb.predict(X_test_best)\n",
        "print(\"Accuracy:\",metrics.accuracy_score(y_test_best, y_pred5))\n",
        "#overfitting problem!!"
      ],
      "metadata": {
        "colab": {
          "base_uri": "https://localhost:8080/"
        },
        "id": "a6AL8YC5qSru",
        "outputId": "06a2cc16-19c4-4ec1-ab36-09ada33fb98d"
      },
      "execution_count": null,
      "outputs": [
        {
          "output_type": "stream",
          "name": "stdout",
          "text": [
            "Accuracy: 1.0\n"
          ]
        }
      ]
    },
    {
      "cell_type": "code",
      "source": [
        "param_grid = [\n",
        "  {\n",
        "   'max_depth': [ 5,8,10]\n",
        "   },\n",
        " ]\n",
        "clf6 = GridSearchCV(xgb, param_grid, cv=5)  \n",
        "clf6.fit(X_train_best, y_train_best)"
      ],
      "metadata": {
        "colab": {
          "base_uri": "https://localhost:8080/"
        },
        "id": "WDim6nzdt_JK",
        "outputId": "5831fa9f-0846-4e37-8cb3-07dab07a7878"
      },
      "execution_count": null,
      "outputs": [
        {
          "output_type": "execute_result",
          "data": {
            "text/plain": [
              "GridSearchCV(cv=5, estimator=XGBClassifier(objective='multi:softprob'),\n",
              "             param_grid=[{'max_depth': [5, 8, 10]}])"
            ]
          },
          "metadata": {},
          "execution_count": 42
        }
      ]
    },
    {
      "cell_type": "code",
      "source": [
        "clf6.best_params_"
      ],
      "metadata": {
        "colab": {
          "base_uri": "https://localhost:8080/"
        },
        "id": "R7b4biLsui0N",
        "outputId": "0cbd0c25-4a13-4bcd-fa9a-f6ec43622c44"
      },
      "execution_count": null,
      "outputs": [
        {
          "output_type": "execute_result",
          "data": {
            "text/plain": [
              "{'max_depth': 8}"
            ]
          },
          "metadata": {},
          "execution_count": 43
        }
      ]
    },
    {
      "cell_type": "code",
      "source": [
        "#xgb cross validation score for 50 selected features\n",
        "cross_val_score4 = cross_val_score(XGBClassifier(max_depth = 8), best_X_k, y, cv=skf).mean()\n",
        "print(\"XGB cross validation score:\", cross_val_score4)"
      ],
      "metadata": {
        "colab": {
          "base_uri": "https://localhost:8080/"
        },
        "id": "tGyGyU2-uXgk",
        "outputId": "17d80350-fdf6-445a-dbae-47ea73aeeac3"
      },
      "execution_count": null,
      "outputs": [
        {
          "output_type": "stream",
          "name": "stdout",
          "text": [
            "XGB cross validation score: 0.9025819639278557\n"
          ]
        }
      ]
    }
  ]
}